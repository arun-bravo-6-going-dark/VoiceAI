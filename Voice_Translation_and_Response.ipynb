{
 "cells": [
  {
   "cell_type": "code",
   "execution_count": null,
   "metadata": {},
   "outputs": [],
   "source": [
    "from openai import OpenAI\n",
    "import os\n",
    "\n",
    "client = OpenAI(api_key = os.environ['OPENAI_API_KEY']) \n"
   ]
  },
  {
   "cell_type": "markdown",
   "metadata": {},
   "source": [
    "## Translation"
   ]
  },
  {
   "cell_type": "code",
   "execution_count": null,
   "metadata": {},
   "outputs": [],
   "source": [
    "# Reading the recorded audio file\n",
    "audio_filename = \"recorded_audio.wav\"\n",
    "\n",
    "# Send the recorded audio to OpenAI's Whisper model for translation\n",
    "with open(audio_filename, \"rb\") as audio_file:\n",
    "    translation = client.audio.translations.create(\n",
    "        model=\"whisper-1\", \n",
    "        file=audio_file\n",
    "        )\n",
    " \n",
    "print(translation.text)\n"
   ]
  },
  {
   "cell_type": "markdown",
   "metadata": {},
   "source": [
    "## LLM Call"
   ]
  },
  {
   "cell_type": "code",
   "execution_count": null,
   "metadata": {},
   "outputs": [],
   "source": [
    "from langchain_openai import ChatOpenAI\n",
    "\n",
    "llm_4_mini = ChatOpenAI(model=\"gpt-4o-mini\", api_key=os.environ['OPENAI_API_KEY'], temperature=0, top_p=0.5)\n",
    "\n",
    "\n",
    "def small_talk(question, chat_history):\n",
    "        try:\n",
    "            result = llm_4_mini.invoke(f\"\"\"You are an helpful assistant, just reply the quesions with very short answer with an intent to help further. Yoour response should always be in Tamil Language.\n",
    "    question: {question}\"\"\")\n",
    "            return result.content\n",
    "        except:\n",
    "            return \"something went wrong\""
   ]
  },
  {
   "cell_type": "code",
   "execution_count": null,
   "metadata": {},
   "outputs": [],
   "source": [
    "response = small_talk(translation.text, \"\")\n",
    "print(response)"
   ]
  },
  {
   "cell_type": "markdown",
   "metadata": {},
   "source": [
    "## Text-to-Speech Tamil"
   ]
  },
  {
   "cell_type": "code",
   "execution_count": null,
   "metadata": {},
   "outputs": [],
   "source": [
    "from gtts import gTTS\n",
    "\n",
    "# Specify the text you want to convert to speech\n",
    "# Create a gTTS object with the Tamil language\n",
    "tts = gTTS(text=response, lang='ta', slow=False)\n",
    "\n",
    "# Save the speech to an MP3 file\n",
    "tts.save(\"tamil_speech.mp3\")\n",
    "\n",
    "print(\"Tamil speech has been saved to 'tamil_speech.mp3'\")\n"
   ]
  },
  {
   "cell_type": "markdown",
   "metadata": {},
   "source": [
    "#### base64 audio conversion testing"
   ]
  },
  {
   "cell_type": "code",
   "execution_count": null,
   "metadata": {},
   "outputs": [],
   "source": [
    "from gtts import gTTS\n",
    "from io import BytesIO\n",
    "import base64\n",
    "\n",
    "\n",
    "tamil_text = \"இன்று ஒரு அழகான நாள்.\"\n",
    "\n",
    "tts = gTTS(text=tamil_text, lang='ta', slow=False)\n",
    "\n",
    "speech_bytes = BytesIO()  # Create an in-memory file for the speech\n",
    "tts.write_to_fp(speech_bytes)\n",
    "speech_bytes.seek(0)  # Reset file pointer to the beginning\n",
    "base64_audio = base64.b64encode(speech_bytes.read()).decode('utf-8')\n",
    "print(base64_audio)\n"
   ]
  },
  {
   "cell_type": "code",
   "execution_count": null,
   "metadata": {},
   "outputs": [],
   "source": [
    "import base64\n",
    "\n",
    "# Replace this with your actual base64_audio string\n",
    "# Decode the base64 string back to bytes\n",
    "audio_data = base64.b64decode(base64_audio)\n",
    "\n",
    "# Save the decoded bytes to an MP3 file\n",
    "with open(\"output_audio.mp3\", \"wb\") as audio_file:\n",
    "    audio_file.write(audio_data)\n",
    "\n",
    "print(\"Audio has been saved as 'output_audio.mp3'. You can play it now.\")"
   ]
  }
 ],
 "metadata": {
  "kernelspec": {
   "display_name": "Python 3",
   "language": "python",
   "name": "python3"
  },
  "language_info": {
   "codemirror_mode": {
    "name": "ipython",
    "version": 3
   },
   "file_extension": ".py",
   "mimetype": "text/x-python",
   "name": "python",
   "nbconvert_exporter": "python",
   "pygments_lexer": "ipython3",
   "version": "3.10.15"
  }
 },
 "nbformat": 4,
 "nbformat_minor": 2
}
