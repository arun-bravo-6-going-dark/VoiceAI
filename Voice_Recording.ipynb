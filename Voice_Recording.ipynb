{
 "cells": [
  {
   "cell_type": "code",
   "execution_count": 1,
   "metadata": {},
   "outputs": [],
   "source": [
    "import pyaudio\n",
    "import wave\n",
    "import numpy as np\n",
    "import webrtcvad\n",
    "import threading\n",
    "import time\n"
   ]
  },
  {
   "cell_type": "markdown",
   "metadata": {},
   "source": [
    "## Voice Recording"
   ]
  },
  {
   "cell_type": "code",
   "execution_count": 2,
   "metadata": {},
   "outputs": [],
   "source": [
    "\n",
    "class AudioRecorder:\n",
    "    def __init__(self, output_filename=\"recorded_audio.wav\", max_silence_seconds=3):\n",
    "        self.output_filename = output_filename\n",
    "        self.max_silence_seconds = max_silence_seconds\n",
    "        self.chunk = 320  # 20ms chunks at 16000 Hz\n",
    "        self.sample_format = pyaudio.paInt16  # 16 bits per sample\n",
    "        self.channels = 1  # Mono\n",
    "        self.rate = 16000  # Sample rate suitable for VAD\n",
    "        self.vad = webrtcvad.Vad()\n",
    "        self.vad.set_mode(1)  # Mode 1: Low aggressiveness\n",
    "        self.p = pyaudio.PyAudio()  # Create an interface to PortAudio\n",
    "        self.stream = None\n",
    "        self.frames = []\n",
    "        self.silence_chunks = 0\n",
    "        self.is_recording = False\n",
    "        self.recording_thread = None\n",
    "\n",
    "    def start_recording(self):\n",
    "        \"\"\"Start the audio recording in a separate thread.\"\"\"\n",
    "        if self.is_recording:\n",
    "            print(\"Recording is already in progress.\")\n",
    "            return\n",
    "\n",
    "        self.is_recording = True\n",
    "        self.frames = []  # Reset frames\n",
    "        self.silence_chunks = 0  # Reset silence counter\n",
    "\n",
    "        # Open stream\n",
    "        try:\n",
    "            self.stream = self.p.open(format=self.sample_format,\n",
    "                                      channels=self.channels,\n",
    "                                      rate=self.rate,\n",
    "                                      frames_per_buffer=self.chunk,\n",
    "                                      input=True)\n",
    "        except Exception as e:\n",
    "            print(f\"Error opening stream: {e}\")\n",
    "            self.is_recording = False\n",
    "            return\n",
    "\n",
    "        print(\"Recording started...\")\n",
    "        self.recording_thread = threading.Thread(target=self._record)\n",
    "        self.recording_thread.start()\n",
    "\n",
    "    def _record(self):\n",
    "        \"\"\"Internal method to handle the recording process.\"\"\"\n",
    "        try:\n",
    "            while self.is_recording:\n",
    "                try:\n",
    "                    data = self.stream.read(self.chunk, exception_on_overflow=False)\n",
    "                except Exception as e:\n",
    "                    print(f\"Error reading stream: {e}\")\n",
    "                    break\n",
    "\n",
    "                self.frames.append(data)\n",
    "\n",
    "                # Convert data to numpy array for VAD processing\n",
    "                audio_data = np.frombuffer(data, dtype=np.int16)\n",
    "\n",
    "                # Ensure the audio chunk is of the correct length for VAD processing\n",
    "                if len(audio_data) == self.chunk:\n",
    "                    is_speech = self.vad.is_speech(audio_data.tobytes(), sample_rate=self.rate)\n",
    "                else:\n",
    "                    is_speech = False\n",
    "\n",
    "                # Check for silence\n",
    "                if not is_speech:\n",
    "                    self.silence_chunks += 1\n",
    "                else:\n",
    "                    self.silence_chunks = 0  # Reset if speech is detected\n",
    "\n",
    "                # Stop recording if silence is detected for more than max_silence_seconds\n",
    "                if self.silence_chunks > (self.max_silence_seconds * self.rate / self.chunk):\n",
    "                    print(\"Silence detected. Stopping recording.\")\n",
    "                    self.stop_recording()\n",
    "\n",
    "        except Exception as e:\n",
    "            print(f\"Error during recording: {e}\")\n",
    "            self.stop_recording()\n",
    "\n",
    "    def stop_recording(self):\n",
    "        \"\"\"Stop the recording and save the audio file.\"\"\"\n",
    "        if not self.is_recording:\n",
    "            print(\"Recording is not active.\")\n",
    "            return\n",
    "\n",
    "        # Safely stop recording\n",
    "        self.is_recording = False\n",
    "\n",
    "        # Stop and close the stream safely\n",
    "        if self.stream is not None:\n",
    "            try:\n",
    "                self.stream.stop_stream()\n",
    "                self.stream.close()\n",
    "            except Exception as e:\n",
    "                print(f\"Error closing stream: {e}\")\n",
    "\n",
    "        # Terminate the PortAudio interface safely\n",
    "        try:\n",
    "            self.p.terminate()\n",
    "        except Exception as e:\n",
    "            print(f\"Error terminating PortAudio: {e}\")\n",
    "\n",
    "        # Save the recorded data as a WAV file only if there are frames\n",
    "        if self.frames:\n",
    "            try:\n",
    "                with wave.open(self.output_filename, 'wb') as wf:\n",
    "                    wf.setnchannels(self.channels)\n",
    "                    wf.setsampwidth(self.p.get_sample_size(self.sample_format))\n",
    "                    wf.setframerate(self.rate)\n",
    "                    wf.writeframes(b''.join(self.frames))\n",
    "                print(f\"Recording finished. File saved as {self.output_filename}\")\n",
    "            except Exception as e:\n",
    "                print(f\"Error saving WAV file: {e}\")\n",
    "        else:\n",
    "            print(\"No audio frames recorded, nothing to save.\")\n",
    "\n",
    "\n"
   ]
  },
  {
   "cell_type": "code",
   "execution_count": 3,
   "metadata": {},
   "outputs": [],
   "source": [
    "recorder = AudioRecorder()\n"
   ]
  },
  {
   "cell_type": "markdown",
   "metadata": {},
   "source": [
    "#### Start Recording"
   ]
  },
  {
   "cell_type": "code",
   "execution_count": 4,
   "metadata": {},
   "outputs": [
    {
     "name": "stdout",
     "output_type": "stream",
     "text": [
      "Recording started...\n"
     ]
    }
   ],
   "source": [
    "# Start recording\n",
    "recorder.start_recording()"
   ]
  },
  {
   "cell_type": "markdown",
   "metadata": {},
   "source": [
    "#### Stop Recording"
   ]
  },
  {
   "cell_type": "code",
   "execution_count": 5,
   "metadata": {},
   "outputs": [
    {
     "name": "stdout",
     "output_type": "stream",
     "text": [
      "Recording finished. File saved as recorded_audio.wav\n"
     ]
    }
   ],
   "source": [
    "# Simulating a manual stop after some time, replace this with button control in your front end\n",
    "recorder.stop_recording()"
   ]
  },
  {
   "cell_type": "code",
   "execution_count": null,
   "metadata": {},
   "outputs": [],
   "source": []
  }
 ],
 "metadata": {
  "kernelspec": {
   "display_name": "Python 3",
   "language": "python",
   "name": "python3"
  },
  "language_info": {
   "codemirror_mode": {
    "name": "ipython",
    "version": 3
   },
   "file_extension": ".py",
   "mimetype": "text/x-python",
   "name": "python",
   "nbconvert_exporter": "python",
   "pygments_lexer": "ipython3",
   "version": "3.10.15"
  }
 },
 "nbformat": 4,
 "nbformat_minor": 2
}
